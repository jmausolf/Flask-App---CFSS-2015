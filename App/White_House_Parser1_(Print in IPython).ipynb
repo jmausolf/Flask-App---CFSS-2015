{
 "metadata": {
  "name": "",
  "signature": "sha256:9c24ccd5b8e0d4e005e53f0212434cf618c98da78adf2f7d5e78094d7b07cb84"
 },
 "nbformat": 3,
 "nbformat_minor": 0,
 "worksheets": [
  {
   "cells": [
    {
     "cell_type": "heading",
     "level": 1,
     "metadata": {},
     "source": [
      "White House Parser1 (Print in IPython)\n"
     ]
    },
    {
     "cell_type": "markdown",
     "metadata": {},
     "source": [
      "Welcome! Here is an example of White House parser number one, modified to print in IPython notebook.\n",
      " - Please scroll below to test on a url."
     ]
    },
    {
     "cell_type": "heading",
     "level": 2,
     "metadata": {},
     "source": [
      "CODEBLOCK:\n"
     ]
    },
    {
     "cell_type": "code",
     "collapsed": false,
     "input": [
      "def WHT1_IPython(url):\n",
      "    \"\"\"Prints Text Output for a given URL from Whitehouse Speeches and Remarks\"\"\"\n",
      "    \n",
      "    import urllib2,sys, random\n",
      "    import os\n",
      "    from bs4 import BeautifulSoup\n",
      "\n",
      "    soup = BeautifulSoup(urllib2.urlopen(url).read())\n",
      "\n",
      "    # Get URL\n",
      "    url2 = \"Cite: \\n\"+url+\"\\n\"\n",
      "\n",
      "\n",
      "    # Get Date\n",
      "    Date = soup.find(\"div\", {\"class\":\"date\"})\n",
      "    raw_date = Date.get_text()\n",
      "    date = raw_date.replace(' ', '', 12)\n",
      "\n",
      "    # Get Release\n",
      "    Release = soup.find(\"div\", {\"class\":\"release\"})\n",
      "    raw_release = Release.get_text()\n",
      "    release = raw_release.replace(' ', '', 12)+\"\\n\\n\"\n",
      "\n",
      "    # Get Title\n",
      "    Title = soup.find(\"h1\", {\"property\":\"dc:title\"})\n",
      "    title = Title.get_text()\n",
      "\n",
      "    \n",
      "    # Get Paragraph Body\n",
      "    content = soup.find(\"div\", {\"id\":\"content\"})\n",
      "    paragraph = [\"\".join(x.findAll(text=True)) for x in content.findAll(\"p\")]\n",
      "    paragraph_body = \"\\n\\n%s\" % (\"\\n\\n\".join(paragraph))\n",
      "\n",
      "\n",
      "\n",
      "\n",
      "    #Get File ID - Date & Time\n",
      "    #Date\n",
      "    year_id = url[43:47]\n",
      "    month_id = url[48:50]\n",
      "    day_id = url[51:53]\n",
      "    date_id = year_id+'-'+month_id+'-'+day_id\n",
      "    #Random ID\n",
      "    randID1 = str(random.randrange(6, 10000, 1))\n",
      "    randID2 = str(random.randrange(6, 10000, 1))\n",
      "\n",
      "    try:\n",
      "        print \"FILENAME: \", date_id+\"_\"+\"ID1\"+\".txt\"\n",
      "        print url2.encode('utf-8')\n",
      "        print date.encode('utf-8')\n",
      "        print release.encode('utf-8')\n",
      "        print title.encode('utf-8')\n",
      "        print paragraph_body.encode('utf-8')\n",
      "\n",
      "    \n",
      "    finally:\n",
      "        pass"
     ],
     "language": "python",
     "metadata": {},
     "outputs": [],
     "prompt_number": 1
    },
    {
     "cell_type": "code",
     "collapsed": false,
     "input": [
      "#2014\n",
      "test_url = \"http://www.whitehouse.gov/the-press-office/2014/01/22/remarks-president-meeting-presidential-commission-election-administratio\"\n",
      "\n",
      "WHT1_IPython(test_url)"
     ],
     "language": "python",
     "metadata": {},
     "outputs": [
      {
       "output_type": "stream",
       "stream": "stdout",
       "text": [
        "FILENAME:  2014-01-22_ID1.txt\n",
        "Cite: \n",
        "http://www.whitehouse.gov/the-press-office/2014/01/22/remarks-president-meeting-presidential-commission-election-administratio\n",
        "\n",
        "\n",
        "January 22, 2014          \n",
        "\n",
        "For Immediate Release          \n",
        "\n",
        "\n",
        "Remarks by the President Before Meeting with the Presidential Commission on Election Administration\n",
        "\n",
        "\n",
        "The White House\n",
        "\n",
        "Office of the Press Secretary\n",
        "\n",
        "Roosevelt Room\n",
        "\n",
        "10:53 A.M. EST\n",
        "\n",
        "THE PRESIDENT:\u00a0 Hello, everybody.\u00a0 Glad you guys made it to work.\u00a0\n",
        "\n",
        "I just want to say thank you publicly to all the wonderful people here who served on the Presidential Commission on Election Administration.\u00a0 I think all of us recall that in the last election in 2012, we had reports around the country of tremendously long lines for people when they tried to vote, and in some cases for hours they were stuck.\u00a0 The day of the election I said that we're going to need to do something about it.\n",
        "\n",
        "I think all of us share the belief that, regardless of party affiliation, that our democracy demands that our citizens can participate in a smooth and effective way.\u00a0 And I called on Congress to work with us, but I also thought that it was important for us to have a bipartisan, independent panel that could actually dig into the facts and try to determine what can we do to improve this situation.\n",
        "\n",
        "And unlike a lot of countries, we've got a pretty complex system.\u00a0 We vote a lot.\u00a0 We have local jurisdictions that run these elections and it makes things a little bit more complicated.\u00a0 But I was confident that if we put some good minds to work, they could come up with some recommendations.\u00a0 As a consequence, we set up this commission.\u00a0\n",
        "\n",
        "I asked my top attorney during my election campaign, Bob Bauer, to join with Mitt Romney's top attorney in 2012, Ben Ginsberg, to co-chair this commission.\u00a0 I think it's fair to say that they may have voted for different candidates in 2012 -- (laughter) -- but what they shared was a reputation for integrity, for smarts, and a commitment to making sure that our democracy works the way it's supposed to.\n",
        "\n",
        "And they have now, working with the rest of this commission, put together an outstanding series of recommendations with an important goal, which is that no American should have to wait more than half an hour to vote.\u00a0 And they should know they should be confident that their vote is being properly counted and is secure.\u00a0 A lot of the recommendations they've made are common sense; they are ones that can be embraced by all of us.\u00a0 Importantly, my understanding is a lot of the commission recommendations are directed not simply to Congress or the federal government, but rather to the state and local jurisdictions who are largely responsible for our elections.\n",
        "\n",
        "And so we intend to publicize this and to then reach out to stakeholders all across the country to make sure that we can implement this, in part because one of the troubling aspects of the work that they did was hearing from local officials indicating that we could have even more problems in the future if we don\u2019t act now.\u00a0 The good news is, is that the recommendations that are contained in this commission report are eminently glittering.\n",
        "\n",
        "So I just want to publicly, again, thank both Bob and Ben for taking on this largely thankless job.\u00a0 And I want to thank all of you for being so diligent and maintaining a sense of urgency, producing an outstanding report in a relatively short period of time.\u00a0\n",
        "\n",
        "So thank you very much, everybody.\u00a0\n",
        "\n",
        "END\u00a0\u00a0\u00a0\u00a0\u00a0\u00a0\u00a0\u00a0\u00a0\u00a0\u00a0\u00a0\u00a0\u00a0\u00a0\u00a0\n",
        "\t10:57 A.M. EST\n"
       ]
      }
     ],
     "prompt_number": 2
    },
    {
     "cell_type": "heading",
     "level": 2,
     "metadata": {},
     "source": [
      "Please Test Your URL:"
     ]
    },
    {
     "cell_type": "code",
     "collapsed": false,
     "input": [
      "#url = \"Place your url in quotes here\"\n",
      "\n",
      "url = \"Your url\"\n",
      "\n",
      "WHT1_IPython(url)"
     ],
     "language": "python",
     "metadata": {},
     "outputs": []
    }
   ],
   "metadata": {}
  }
 ]
}